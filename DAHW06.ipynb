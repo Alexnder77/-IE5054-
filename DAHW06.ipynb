{
 "cells": [
  {
   "cell_type": "markdown",
   "id": "d10beeb0",
   "metadata": {},
   "source": [
    "# Data Analytics 111-2 Homework #06\n",
    "Alexander Nilsson"
   ]
  },
  {
   "cell_type": "code",
   "execution_count": 2,
   "id": "b77a9a4f",
   "metadata": {},
   "outputs": [],
   "source": [
    "import numpy as np\n",
    "import glob\n",
    "import cv2\n",
    "import matplotlib.pyplot as plt\n",
    "from sklearn.linear_model import Lasso, Ridge, LinearRegression\n",
    "from sklearn.model_selection import train_test_split\n",
    "from sklearn.metrics import mean_squared_error\n",
    "from sklearn.feature_selection import SequentialFeatureSelector"
   ]
  },
  {
   "cell_type": "markdown",
   "id": "5bc2125e",
   "metadata": {},
   "source": [
    "## 1. a) Implement a FA function"
   ]
  },
  {
   "cell_type": "markdown",
   "id": "a8b092e9",
   "metadata": {},
   "source": [
    "code from HW05:"
   ]
  },
  {
   "cell_type": "code",
   "execution_count": 3,
   "id": "c9336578",
   "metadata": {},
   "outputs": [],
   "source": [
    "def standardize(X):\n",
    "    return (X - np.mean(X, axis=0)) / np.std(X, axis=0)"
   ]
  },
  {
   "cell_type": "code",
   "execution_count": 4,
   "id": "9e19e85b",
   "metadata": {},
   "outputs": [],
   "source": [
    "def pca(X, isCorrMX):\n",
    "    X_standardized = standardize(X)\n",
    "\n",
    "    if isCorrMX:\n",
    "        matrix = np.corrcoef(X_standardized.T)\n",
    "    else:\n",
    "        matrix = np.cov(X_standardized.T)\n",
    "\n",
    "    eigenvalues, eigenvectors = np.linalg.eig(matrix)\n",
    "\n",
    "    sorted_indices = np.argsort(eigenvalues)[::-1]\n",
    "    sorted_eigenvectors = eigenvectors[:, sorted_indices]\n",
    "    sorted_eigenvalues = eigenvalues[sorted_indices]\n",
    "\n",
    "    score_matrix = np.dot(X_standardized, sorted_eigenvectors)\n",
    "    cumulative_variance_explained = np.cumsum(sorted_eigenvalues) / np.sum(sorted_eigenvalues)\n",
    "\n",
    "    return sorted_eigenvectors, sorted_eigenvalues, score_matrix, cumulative_variance_explained"
   ]
  },
  {
   "cell_type": "markdown",
   "id": "78646f02",
   "metadata": {},
   "source": [
    " FA function"
   ]
  },
  {
   "cell_type": "code",
   "execution_count": 5,
   "id": "083b91e5",
   "metadata": {},
   "outputs": [],
   "source": [
    "def factor_analysis(X, n_factors, max_iter=100, tol=1e-4):\n",
    "    X_standardized = standardize(X)\n",
    "    \n",
    "    # Initial guess for loading matrix using PCA eigenvectors\n",
    "    _, eigenvectors, _, _ = pca(X_standardized, isCorrMX=True)\n",
    "    eigenvectors = eigenvectors.reshape((X_standardized.shape[1], -1))  # Reshape the eigenvectors\n",
    "    loading_matrix = eigenvectors[:, :n_factors]\n",
    "\n",
    "    n_samples, n_features = X_standardized.shape\n",
    "    prev_loading_matrix = np.zeros((n_features, n_factors))\n",
    "\n",
    "    for _ in range(max_iter):\n",
    "        # Compute factor matrix\n",
    "        factor_matrix = np.dot(X_standardized, loading_matrix)\n",
    "        \n",
    "        # Update loading matrix\n",
    "        loading_matrix = np.dot(X_standardized.T, factor_matrix) / n_samples\n",
    "\n",
    "        # Normalize loading matrix\n",
    "        loading_matrix = loading_matrix / np.sqrt(np.sum(loading_matrix ** 2, axis=0))\n",
    "\n",
    "        # Check convergence\n",
    "        if np.linalg.norm(loading_matrix - prev_loading_matrix) < tol:\n",
    "            break\n",
    "\n",
    "        prev_loading_matrix = loading_matrix.copy()\n",
    "\n",
    "    # Compute communalities, uniqueness, and variance explained\n",
    "    communalities = np.sum(loading_matrix ** 2, axis=1)\n",
    "    uniqueness = 1 - communalities\n",
    "    variance_explained = np.sum(loading_matrix ** 2, axis=0) / n_features\n",
    "\n",
    "    return loading_matrix, factor_matrix, communalities, uniqueness, variance_explained"
   ]
  },
  {
   "cell_type": "markdown",
   "id": "e71c69f6",
   "metadata": {},
   "source": [
    "b)"
   ]
  },
  {
   "cell_type": "code",
   "execution_count": 6,
   "id": "e972da03",
   "metadata": {},
   "outputs": [
    {
     "name": "stdout",
     "output_type": "stream",
     "text": [
      "    mpg  cylinders  displacement  horsepower  weight  acceleration  \\\n",
      "0  18.0          8         307.0       130.0  3504.0          12.0   \n",
      "1  15.0          8         350.0       165.0  3693.0          11.5   \n",
      "2  18.0          8         318.0       150.0  3436.0          11.0   \n",
      "3  16.0          8         304.0       150.0  3433.0          12.0   \n",
      "4  17.0          8         302.0       140.0  3449.0          10.5   \n",
      "\n",
      "   model_year  origin  \n",
      "0          70       1  \n",
      "1          70       1  \n",
      "2          70       1  \n",
      "3          70       1  \n",
      "4          70       1  \n"
     ]
    }
   ],
   "source": [
    "import pandas as pd\n",
    "\n",
    "# define the column names\n",
    "columns = ['mpg', 'cylinders', 'displacement', 'horsepower', 'weight', 'acceleration', 'model_year', 'origin', 'name']\n",
    "\n",
    "# read the data from the text file\n",
    "df = pd.read_csv('auto-mpg.data.txt', delim_whitespace=True, names=columns, na_values='?')\n",
    "\n",
    "df.drop('name', axis=1, inplace=True)\n",
    "df.dropna(inplace=True)\n",
    "\n",
    "# print the first few rows of the DataFrame\n",
    "print(df.head())"
   ]
  },
  {
   "cell_type": "code",
   "execution_count": 7,
   "id": "3db636e6",
   "metadata": {},
   "outputs": [
    {
     "name": "stdout",
     "output_type": "stream",
     "text": [
      "\n",
      "Communality vector h^2:\n",
      " [0.1488906  0.16191599 0.17342539 0.16147187 0.16126258 0.07008219\n",
      " 0.04574106 0.07721031]\n",
      "\n",
      "Uniqueness vector 𝜓:\n",
      " [0.8511094  0.83808401 0.82657461 0.83852813 0.83873742 0.92991781\n",
      " 0.95425894 0.92278969]\n",
      "\n",
      "Variance explained by each factor:\n",
      " [0.125]\n"
     ]
    }
   ],
   "source": [
    "# Convert the DataFrame to a NumPy array\n",
    "data = df.to_numpy()\n",
    "\n",
    "# Apply the factor_analysis function to the data with 2 factors\n",
    "loading_matrix, factor_matrix, communalities, uniqueness, variance_explained = factor_analysis(data, 2)\n",
    "\n",
    "# Print the results\n",
    "#print(\"Loading matrix A:\\n\", loading_matrix)\n",
    "#print(\"\\nFactor matrix F:\\n\", factor_matrix)\n",
    "print(\"\\nCommunality vector h^2:\\n\", communalities)\n",
    "print(\"\\nUniqueness vector 𝜓:\\n\", uniqueness)\n",
    "print(\"\\nVariance explained by each factor:\\n\", variance_explained)"
   ]
  },
  {
   "cell_type": "markdown",
   "id": "1c977727",
   "metadata": {},
   "source": [
    "#### Discussion \n",
    "\n",
    "Communality vector h^2: This vector contains the communalities of each of the 8 variables. In this case, the communality values range from 0.07 to 0.17, indicating that the extracted factor explains a small amount of variance in each variable.\n",
    "\n",
    "Uniqueness vector 𝜓: this vector contains the uniqueness values for the factors, representing the proportion of variance in the variables that is not accounted for by the extracted factors. In this case, the uniqueness values range from 0.83 to 0.95, indicating that there is a significant amount of variance in each variable that is not explained by the extracted factor.\n",
    "\n",
    "Variance explained by each factor: This value indicates the proportion of total variance in the dataset that is explained by the extracted factor. In this case, the extracted factor explains 12.5% of the total variance in the dataset.\n",
    "\n",
    "The moderate communalities and high uniqueness values suggest that the extracted factor may not be a very good fit for the dataset, and that additional factors may be needed to explain the remaining variance.\n"
   ]
  },
  {
   "cell_type": "code",
   "execution_count": 15,
   "id": "a755270f",
   "metadata": {
    "scrolled": false
   },
   "outputs": [
    {
     "name": "stdout",
     "output_type": "stream",
     "text": [
      "Cumulative variance explained:\n",
      " [0.67198404 0.78994195 0.8913974  0.95216689 0.97502021 0.98931046\n",
      " 0.99600381 1.        ]\n"
     ]
    }
   ],
   "source": [
    "#PCA results in HW05-EX3-b: \n",
    "loadings_cov, eigenvalues_cov, scores_cov, cum_var_cov = pca(data, isCorrMX=False)\n",
    "\n",
    "print(\"Cumulative variance explained:\\n\", cum_var_cov)"
   ]
  },
  {
   "cell_type": "markdown",
   "id": "ca1f9f3d",
   "metadata": {},
   "source": [
    "My FA function for 2 factors resulted in a variance explained by each factor of 0.125, while the PC1 from PCA by itself explains 0.67198404 of the variance meaning that I got a lot better result from using PCA"
   ]
  },
  {
   "cell_type": "markdown",
   "id": "701e848b",
   "metadata": {},
   "source": [
    "## 2. Transpose the ORL face dataset to let 𝐗 be a 2576 × 400 data matrix. Perform the factor analysis on 𝐗 with\n",
    "the FA function of your implementation in EX1.\n",
    "### a. (10%) How many factors are needed to explain 50%, 60%, 70%, 80%, and 90% of the total variance?"
   ]
  },
  {
   "cell_type": "code",
   "execution_count": 16,
   "id": "73e2ddb3",
   "metadata": {},
   "outputs": [
    {
     "name": "stdout",
     "output_type": "stream",
     "text": [
      "(400, 2577)\n"
     ]
    }
   ],
   "source": [
    "import zipfile\n",
    "with zipfile.ZipFile('ORL Faces.zip', 'r') as zip_ref:\n",
    "    zip_ref.extractall('.')\n",
    "\n",
    "# Create an empty NumPy array to store the images and a gender column\n",
    "#400 rows one for each picture, 2576 columns for the image, 1 for the gender\n",
    "data_matrix = np.zeros((400, 2577))\n",
    "\n",
    "# Get a list of all PNG files in the directory\n",
    "files = glob.glob(\"ORL Faces/*.png\")\n",
    "\n",
    "# Loop through the image files and read them into the data matrix\n",
    "for i, filename in enumerate(files):\n",
    "    # Read the image using OpenCV\n",
    "    img = cv2.imread(filename, cv2.IMREAD_GRAYSCALE)\n",
    "    \n",
    "    # Resize the image to 46x56\n",
    "    img = cv2.resize(img, (56, 46))\n",
    "    \n",
    "    # Flatten the image into a 1D array and store it in the data matrix\n",
    "    data_matrix[i, :-1] = img.flatten()\n",
    "    \n",
    "    # Check the filename to determine gender\n",
    "    if filename.split(\"/\")[-1].startswith((\"1_\", \"8_\", \"10_\", \"32_\")):\n",
    "        data_matrix[i, -1] = 0\n",
    "    else:\n",
    "        data_matrix[i, -1] = 1\n",
    "\n",
    "# Print the shape of the data matrix\n",
    "print(data_matrix.shape)"
   ]
  },
  {
   "cell_type": "code",
   "execution_count": 20,
   "id": "8ef883f2",
   "metadata": {},
   "outputs": [
    {
     "name": "stdout",
     "output_type": "stream",
     "text": [
      "50.0% of total variance explained with 1 factors\n",
      "60.0% of total variance explained with 1 factors\n",
      "70.0% of total variance explained with 1 factors\n",
      "80.0% of total variance explained with 1 factors\n",
      "90.0% of total variance explained with 1 factors\n",
      "[0.0025]\n"
     ]
    }
   ],
   "source": [
    "# Transpose the data matrix\n",
    "X = data_matrix[:, :-1].T  \n",
    "\n",
    "# Maximum number of factors to consider\n",
    "n_factors = 20  \n",
    "\n",
    "loading_matrix, factor_matrix, communalities, uniqueness, variance_explained = factor_analysis(X, n_factors)\n",
    "\n",
    "cumulative_variance_explained = np.cumsum(variance_explained)\n",
    "desired_percentages = [0.5, 0.6, 0.7, 0.8, 0.9]\n",
    "\n",
    "for percentage in desired_percentages:\n",
    "    factors_needed = np.argmax(cumulative_variance_explained >= percentage) + 1\n",
    "    print(f\"{percentage * 100}% of total variance explained with {factors_needed} factors\")"
   ]
  },
  {
   "cell_type": "markdown",
   "id": "3232a5ff",
   "metadata": {
    "scrolled": true
   },
   "source": [
    "Seems like something might be wrong here, but I got that 1 factor was enough to explain 90% of the variance"
   ]
  },
  {
   "cell_type": "markdown",
   "id": "0a49ed87",
   "metadata": {},
   "source": [
    "### b. (10%) On condition of explaining 80% of the total variance, rescale the first factor into the range [0, 255].\n",
    "Reshape the 2576 × 1 first factor into a 46 × 56 matrix. Plot an image from the 46 × 56 matrix using the\n",
    "rescaled factor."
   ]
  },
  {
   "cell_type": "code",
   "execution_count": 21,
   "id": "7ed2cbcc",
   "metadata": {},
   "outputs": [
    {
     "data": {
      "image/png": "[encoded data removed]",
      "text/plain": [
       "<Figure size 640x480 with 1 Axes>"
      ]
     },
     "metadata": {},
     "output_type": "display_data"
    }
   ],
   "source": [
    "# Perform factor analysis\n",
    "loading_matrix, factor_matrix, _, _, _ = factor_analysis(X, n_factors)\n",
    "\n",
    "# Get the first factor loadings and first factor scores\n",
    "first_factor_loadings = loading_matrix[:, 0]\n",
    "first_factor_scores = factor_matrix[:, 0]\n",
    "\n",
    "# Reconstruct the images using only the first factor\n",
    "reconstructed_images = np.outer(first_factor_scores, first_factor_loadings.T)\n",
    "\n",
    "# Rescale the reconstructed images\n",
    "rescaled_images = (reconstructed_images - np.min(reconstructed_images)) / (np.max(reconstructed_images) - np.min(reconstructed_images)) * 255\n",
    "\n",
    "# Select one of the rescaled images\n",
    "example_image = rescaled_images[:, 0].reshape((46, 56))\n",
    "\n",
    "# Plot the image\n",
    "plt.imshow(example_image, cmap=\"gray\")\n",
    "plt.show()\n"
   ]
  },
  {
   "cell_type": "markdown",
   "id": "c48bc4de",
   "metadata": {},
   "source": [
    "## 3. PLSR on the AutoMPG\n",
    "Find a package/library to perform PLSR on the AutoMPG dataset. Take 300 cars “randomly” to build the model\n",
    "and the rest of 92 cars to test."
   ]
  },
  {
   "cell_type": "code",
   "execution_count": 19,
   "id": "fe8b569b",
   "metadata": {},
   "outputs": [
    {
     "name": "stdout",
     "output_type": "stream",
     "text": [
      "    mpg  cylinders  displacement  horsepower  weight  acceleration  \\\n",
      "0  18.0          8         307.0       130.0  3504.0          12.0   \n",
      "1  15.0          8         350.0       165.0  3693.0          11.5   \n",
      "2  18.0          8         318.0       150.0  3436.0          11.0   \n",
      "3  16.0          8         304.0       150.0  3433.0          12.0   \n",
      "4  17.0          8         302.0       140.0  3449.0          10.5   \n",
      "\n",
      "   model_year  origin                       name  \n",
      "0          70       1  chevrolet chevelle malibu  \n",
      "1          70       1          buick skylark 320  \n",
      "2          70       1         plymouth satellite  \n",
      "3          70       1              amc rebel sst  \n",
      "4          70       1                ford torino  \n"
     ]
    }
   ],
   "source": [
    "import pandas as pd\n",
    "\n",
    "# define the column names\n",
    "columns = ['mpg', 'cylinders', 'displacement', 'horsepower', 'weight', 'acceleration', 'model_year', 'origin', 'name']\n",
    "\n",
    "# read the data from the text file\n",
    "df = pd.read_csv('auto-mpg.data.txt', delim_whitespace=True, names=columns, na_values='?')\n",
    "\n",
    "# print the first few rows of the DataFrame\n",
    "print(df.head())\n",
    "\n",
    "#df.drop('name', axis=1, inplace=True)\n",
    "df.dropna(inplace=True)"
   ]
  },
  {
   "cell_type": "code",
   "execution_count": 24,
   "id": "a8e6ad15",
   "metadata": {},
   "outputs": [],
   "source": [
    "from sklearn.cross_decomposition import PLSRegression\n",
    "from sklearn.metrics import mean_squared_error, r2_score\n",
    "from sklearn.model_selection import train_test_split\n",
    "\n",
    "# Split the dataset into features (X) and targets (y)\n",
    "X = df.drop(columns=[\"mpg\", \"name\"]).values\n",
    "y = df[\"mpg\"].values\n",
    "y_multi = df[[\"mpg\", \"model_year\"]].values\n",
    "\n",
    "# Split the dataset into training (300 samples) and testing (92 samples) sets\n",
    "X_train, X_test, y_train, y_test = train_test_split(X, y, test_size=92)\n",
    "_, _, y_multi_train, y_multi_test = train_test_split(X, y_multi, test_size=92)"
   ]
  },
  {
   "cell_type": "markdown",
   "id": "99228731",
   "metadata": {},
   "source": [
    "### a. (5%) Start with a single 𝑦 (=mpg). What do you observe with the testing results?"
   ]
  },
  {
   "cell_type": "code",
   "execution_count": 27,
   "id": "94bf3fba",
   "metadata": {},
   "outputs": [
    {
     "name": "stdout",
     "output_type": "stream",
     "text": [
      "Single y (mpg) - Mean Squared Error: 12.133019480568912, R2 Score: 0.7600768209186628\n"
     ]
    }
   ],
   "source": [
    "# PLSR with a single y (mpg)\n",
    "plsr_single = PLSRegression(n_components=2)\n",
    "plsr_single.fit(X_train, y_train)\n",
    "y_pred_single = plsr_single.predict(X_test)\n",
    "\n",
    "# Evaluate the model\n",
    "mse_single = mean_squared_error(y_test, y_pred_single)\n",
    "r2_single = r2_score(y_test, y_pred_single)\n",
    "print(f\"Single y (mpg) - Mean Squared Error: {mse_single}, R2 Score: {r2_single}\")"
   ]
  },
  {
   "cell_type": "markdown",
   "id": "1f7edb49",
   "metadata": {},
   "source": [
    "### b. (10%) Use 𝑦 = [mpg model year]. What do you observe with the testing results? \n",
    "In particular, compare and discuss the testing results of the mpg between (a) and (b)."
   ]
  },
  {
   "cell_type": "code",
   "execution_count": 26,
   "id": "ab52c97e",
   "metadata": {},
   "outputs": [
    {
     "name": "stdout",
     "output_type": "stream",
     "text": [
      "Multiple y (mpg, model year) - Mean Squared Error for mpg: 13.02070156010151, R2 Score for mpg: 0.7425234405028418\n"
     ]
    }
   ],
   "source": [
    "# Perform PLSR with y = [mpg, model year]\n",
    "plsr_multi = PLSRegression(n_components=2)\n",
    "plsr_multi.fit(X_train, y_multi_train)\n",
    "y_multi_pred = plsr_multi.predict(X_test)\n",
    "\n",
    "# Evaluate the model for mpg\n",
    "mse_multi = mean_squared_error(y_test, y_multi_pred[:, 0])\n",
    "r2_multi = r2_score(y_test, y_multi_pred[:, 0])\n",
    "print(f\"Multiple y (mpg, model year) - Mean Squared Error for mpg: {mse_multi}, R2 Score for mpg: {r2_multi}\")"
   ]
  },
  {
   "cell_type": "markdown",
   "id": "93b697ee",
   "metadata": {},
   "source": [
    "#### Conclussion:\n",
    "Based on the above results, we can observe the following:\n",
    "a. For the PLSR model with a single 𝑦 (mpg):\n",
    "    Mean Squared Error (MSE): 12.133\n",
    "    R2 Score: 0.760\n",
    "\n",
    "b. For the PLSR model with 𝑦 = [mpg, model year]:\n",
    "    Mean Squared Error (MSE) for mpg: 13.021\n",
    "    R2 Score for mpg: 0.743\n",
    "\n",
    "Comparing the testing results of the mpg between (a) and (b), we can see that the model with a single 𝑦 (mpg) performs slightly better than the model with 𝑦 = [mpg, model year]. The MSE is lower for the single 𝑦 model, indicating that it has a better fit to the test data. Additionally, the R2 Score is higher for the single 𝑦 model, suggesting that it explains more of the variance in the test data.\n",
    "\n",
    "This observation could suggest that adding the \"model year\" as an additional target variable might not improve the prediction of mpg in this specific case. "
   ]
  }
 ],
 "metadata": {
  "kernelspec": {
   "display_name": "Python (gpu2)",
   "language": "python",
   "name": "gpu2"
  },
  "language_info": {
   "codemirror_mode": {
    "name": "ipython",
    "version": 3
   },
   "file_extension": ".py",
   "mimetype": "text/x-python",
   "name": "python",
   "nbconvert_exporter": "python",
   "pygments_lexer": "ipython3",
   "version": "3.10.10"
  }
 },
 "nbformat": 4,
 "nbformat_minor": 5
}
