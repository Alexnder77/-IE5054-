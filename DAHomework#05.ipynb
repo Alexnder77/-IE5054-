{
 "cells": [
  {
   "cell_type": "markdown",
   "id": "feef964d",
   "metadata": {},
   "source": [
    "# Data Analytics 111-2 Homework #05\n",
    "Alexander Nilsson"
   ]
  },
  {
   "cell_type": "code",
   "execution_count": 24,
   "id": "df7535e9",
   "metadata": {},
   "outputs": [],
   "source": [
    "import numpy as np\n",
    "import glob\n",
    "import cv2\n",
    "import matplotlib.pyplot as plt\n",
    "from sklearn.linear_model import Lasso, Ridge, LinearRegression\n",
    "from sklearn.model_selection import train_test_split\n",
    "from sklearn.metrics import mean_squared_error\n",
    "from sklearn.feature_selection import SequentialFeatureSelector"
   ]
  },
  {
   "cell_type": "markdown",
   "id": "547d7994",
   "metadata": {},
   "source": [
    "## 1. LASSO and ridge"
   ]
  },
  {
   "cell_type": "code",
   "execution_count": 45,
   "id": "45acb422",
   "metadata": {},
   "outputs": [],
   "source": [
    "import zipfile\n",
    "with zipfile.ZipFile('ORL Faces.zip', 'r') as zip_ref:\n",
    "    zip_ref.extractall('.')\n",
    "\n",
    "# Create an empty NumPy array to store the images and a gender column\n",
    "#400 rows one for each picture, 2576 columns for the image, 1 for the gender\n",
    "data_matrix = np.zeros((400, 2577))\n",
    "\n",
    "# Get a list of all PNG files in the directory\n",
    "files = glob.glob(\"ORL Faces/*.png\")\n",
    "\n",
    "# Loop through the image files and read them into the data matrix\n",
    "for i, filename in enumerate(files):\n",
    "    # Read the image using OpenCV\n",
    "    img = cv2.imread(filename, cv2.IMREAD_GRAYSCALE)\n",
    "    \n",
    "    # Resize the image to 46x56\n",
    "    img = cv2.resize(img, (56, 46))\n",
    "    \n",
    "    # Flatten the image into a 1D array and store it in the data matrix\n",
    "    data_matrix[i, :-1] = img.flatten()\n",
    "    \n",
    "    # Check the filename to determine gender\n",
    "    if filename.split(\"/\")[-1].startswith((\"1_\", \"8_\", \"10_\", \"32_\")):\n",
    "        data_matrix[i, -1] = 0\n",
    "    else:\n",
    "        data_matrix[i, -1] = 1\n",
    "\n",
    "# Print the shape of the data matrix\n",
    "print(data_matrix.shape)\n"
   ]
  },
  {
   "cell_type": "markdown",
   "id": "0578a0b6",
   "metadata": {},
   "source": [
    "### Select the lambda associated with the minimal MSE fit and compare the results with that of your stepwise regression in HW02"
   ]
  },
  {
   "cell_type": "code",
   "execution_count": 47,
   "id": "09fc3adf",
   "metadata": {},
   "outputs": [],
   "source": [
    "X = data_matrix[:, :-1]\n",
    "y = data_matrix[:, -1]\n",
    "\n",
    "X_train, X_test, y_train, y_test = train_test_split(X, y, test_size=0.2, random_state=42)"
   ]
  },
  {
   "cell_type": "markdown",
   "id": "245d92e8",
   "metadata": {},
   "source": [
    "tried this approach \n",
    "\n",
    "find the optimal lambda value for LASSO and Ridge regressions using cross-validation using: \n",
    "\n",
    "```\n",
    "lasso_cv = LassoCV(cv=5).fit(X_train, y_train)\n",
    "ridge_cv = RidgeCV(cv=5).fit(X_train, y_train)\n",
    "\n",
    "best_lambda_lasso = lasso_cv.alpha_\n",
    "best_lambda_ridge = ridge_cv.alpha_\n",
    "\n",
    "print(\"Best lambda for LASSO:\", best_lambda_lasso)\n",
    "print(\"Best lambda for Ridge:\", best_lambda_ridge)\n",
    "```\n",
    "\n",
    "got this error: ConvergenceWarning: Objective did not converge. You might want to increase the number of iterations, check the scale of the features or consider increasing regularisation."
   ]
  },
  {
   "cell_type": "code",
   "execution_count": 56,
   "id": "ed8bf61b",
   "metadata": {},
   "outputs": [
    {
     "name": "stderr",
     "output_type": "stream",
     "text": [
      "C:\\Users\\Aleni\\miniconda3\\envs\\gpu_notebook\\lib\\site-packages\\sklearn\\linear_model\\_coordinate_descent.py:631: ConvergenceWarning: Objective did not converge. You might want to increase the number of iterations, check the scale of the features or consider increasing regularisation. Duality gap: 0.000e+00, tolerance: 0.000e+00\n",
      "  model = cd_fast.enet_coordinate_descent(\n",
      "C:\\Users\\Aleni\\miniconda3\\envs\\gpu_notebook\\lib\\site-packages\\sklearn\\linear_model\\_coordinate_descent.py:631: ConvergenceWarning: Objective did not converge. You might want to increase the number of iterations, check the scale of the features or consider increasing regularisation. Duality gap: 0.000e+00, tolerance: 0.000e+00\n",
      "  model = cd_fast.enet_coordinate_descent(\n",
      "C:\\Users\\Aleni\\miniconda3\\envs\\gpu_notebook\\lib\\site-packages\\sklearn\\linear_model\\_coordinate_descent.py:631: ConvergenceWarning: Objective did not converge. You might want to increase the number of iterations, check the scale of the features or consider increasing regularisation. Duality gap: 0.000e+00, tolerance: 0.000e+00\n",
      "  model = cd_fast.enet_coordinate_descent(\n",
      "C:\\Users\\Aleni\\miniconda3\\envs\\gpu_notebook\\lib\\site-packages\\sklearn\\linear_model\\_coordinate_descent.py:631: ConvergenceWarning: Objective did not converge. You might want to increase the number of iterations, check the scale of the features or consider increasing regularisation. Duality gap: 0.000e+00, tolerance: 0.000e+00\n",
      "  model = cd_fast.enet_coordinate_descent(\n",
      "C:\\Users\\Aleni\\miniconda3\\envs\\gpu_notebook\\lib\\site-packages\\sklearn\\linear_model\\_coordinate_descent.py:631: ConvergenceWarning: Objective did not converge. You might want to increase the number of iterations, check the scale of the features or consider increasing regularisation. Duality gap: 0.000e+00, tolerance: 0.000e+00\n",
      "  model = cd_fast.enet_coordinate_descent(\n",
      "C:\\Users\\Aleni\\miniconda3\\envs\\gpu_notebook\\lib\\site-packages\\sklearn\\linear_model\\_coordinate_descent.py:631: ConvergenceWarning: Objective did not converge. You might want to increase the number of iterations, check the scale of the features or consider increasing regularisation. Duality gap: 0.000e+00, tolerance: 0.000e+00\n",
      "  model = cd_fast.enet_coordinate_descent(\n",
      "C:\\Users\\Aleni\\miniconda3\\envs\\gpu_notebook\\lib\\site-packages\\sklearn\\linear_model\\_coordinate_descent.py:631: ConvergenceWarning: Objective did not converge. You might want to increase the number of iterations, check the scale of the features or consider increasing regularisation. Duality gap: 0.000e+00, tolerance: 0.000e+00\n",
      "  model = cd_fast.enet_coordinate_descent(\n",
      "C:\\Users\\Aleni\\miniconda3\\envs\\gpu_notebook\\lib\\site-packages\\sklearn\\linear_model\\_coordinate_descent.py:631: ConvergenceWarning: Objective did not converge. You might want to increase the number of iterations, check the scale of the features or consider increasing regularisation. Duality gap: 0.000e+00, tolerance: 0.000e+00\n",
      "  model = cd_fast.enet_coordinate_descent(\n",
      "C:\\Users\\Aleni\\miniconda3\\envs\\gpu_notebook\\lib\\site-packages\\sklearn\\linear_model\\_coordinate_descent.py:631: ConvergenceWarning: Objective did not converge. You might want to increase the number of iterations, check the scale of the features or consider increasing regularisation. Duality gap: 0.000e+00, tolerance: 0.000e+00\n",
      "  model = cd_fast.enet_coordinate_descent(\n",
      "C:\\Users\\Aleni\\miniconda3\\envs\\gpu_notebook\\lib\\site-packages\\sklearn\\linear_model\\_coordinate_descent.py:631: ConvergenceWarning: Objective did not converge. You might want to increase the number of iterations, check the scale of the features or consider increasing regularisation. Duality gap: 0.000e+00, tolerance: 0.000e+00\n",
      "  model = cd_fast.enet_coordinate_descent(\n",
      "C:\\Users\\Aleni\\miniconda3\\envs\\gpu_notebook\\lib\\site-packages\\sklearn\\linear_model\\_coordinate_descent.py:631: ConvergenceWarning: Objective did not converge. You might want to increase the number of iterations, check the scale of the features or consider increasing regularisation. Duality gap: 0.000e+00, tolerance: 0.000e+00\n",
      "  model = cd_fast.enet_coordinate_descent(\n"
     ]
    }
   ],
   "source": [
    "from sklearn.preprocessing import StandardScaler\n",
    "from sklearn.linear_model import LassoCV, RidgeCV \n",
    "\n",
    "scaler = StandardScaler()\n",
    "X_train_scaled = scaler.fit_transform(X_train)\n",
    "X_test_scaled = scaler.transform(X_test)\n",
    "\n",
    "#lasso_cv = LassoCV(cv=5).fit(X_train_scaled, y_train)\n",
    "#ridge_cv = RidgeCV(cv=5).fit(X_train_scaled, y_train)\n",
    "\n",
    "# create LassoCV and RidgeCV models with increased max_iter and decreased tol\n",
    "lasso_cv = LassoCV(cv=10, max_iter=10000, tol=0.001).fit(X_train_scaled, y_train)\n",
    "ridge_cv = RidgeCV(cv=10).fit(X_train_scaled, y_train)\n",
    "\n",
    "best_lambda_lasso = lasso_cv.alpha_\n",
    "best_lambda_ridge = ridge_cv.alpha_"
   ]
  },
  {
   "cell_type": "code",
   "execution_count": 55,
   "id": "b7f49e12",
   "metadata": {},
   "outputs": [
    {
     "name": "stdout",
     "output_type": "stream",
     "text": [
      "LASSO MSE: 0.0\n",
      "Ridge MSE: 0.0\n"
     ]
    },
    {
     "name": "stderr",
     "output_type": "stream",
     "text": [
      "C:\\Users\\Aleni\\miniconda3\\envs\\gpu_notebook\\lib\\site-packages\\sklearn\\linear_model\\_coordinate_descent.py:631: ConvergenceWarning: Objective did not converge. You might want to increase the number of iterations, check the scale of the features or consider increasing regularisation. Duality gap: 0.000e+00, tolerance: 0.000e+00\n",
      "  model = cd_fast.enet_coordinate_descent(\n"
     ]
    }
   ],
   "source": [
    "lasso = Lasso(alpha=best_lambda_lasso).fit(X_train, y_train)\n",
    "ridge = Ridge(alpha=best_lambda_ridge).fit(X_train, y_train)\n",
    "\n",
    "# Calculate the mean squared error for the LASSO and Ridge models\n",
    "mse_lasso = mean_squared_error(y_test, lasso.predict(X_test))\n",
    "mse_ridge = mean_squared_error(y_test, ridge.predict(X_test))\n",
    "\n",
    "print(\"LASSO MSE:\", mse_lasso)\n",
    "print(\"Ridge MSE:\", mse_ridge)"
   ]
  },
  {
   "cell_type": "markdown",
   "id": "867dcc23",
   "metadata": {},
   "source": [
    "fit the LASSO and Ridge models with the best lambda values"
   ]
  },
  {
   "cell_type": "markdown",
   "id": "14da310f",
   "metadata": {},
   "source": [
    "### b) plot the chosen pixels from LASSO regression on a 46 × 56 canvas"
   ]
  },
  {
   "cell_type": "code",
   "execution_count": 57,
   "id": "b1882dff",
   "metadata": {},
   "outputs": [
    {
     "data": {
      "image/png": "[encoded data removed]",
      "text/plain": [
       "<Figure size 640x480 with 1 Axes>"
      ]
     },
     "metadata": {},
     "output_type": "display_data"
    }
   ],
   "source": [
    "# Find the chosen pixels from the LASSO regression\n",
    "chosen_pixels_lasso = np.where(lasso.coef_ != 0)[0]\n",
    "\n",
    "# Create a blank 46 x 56 canvas\n",
    "canvas_lasso = np.zeros((46, 56))\n",
    "\n",
    "# Set the chosen significant pixels to 1 on the canvas\n",
    "for pixel in chosen_pixels_lasso:\n",
    "    x, y = divmod(pixel, 56)\n",
    "    canvas_lasso[x, y] = 1\n",
    "\n",
    "# Display the canvas with the chosen significant pixels\n",
    "plt.imshow(canvas_lasso, cmap='gray')\n",
    "plt.show()"
   ]
  },
  {
   "cell_type": "markdown",
   "id": "52e52121",
   "metadata": {},
   "source": [
    "despite trying a few different ways I never made my solutions converge, I'm not sure if this is becouse the lasso algorithm cant handle this problem or becouse I am implementing it the wrong way.\n",
    "\n",
    "Objective did not converge. You might want to increase the number of iterations, check the scale of the features or consider increasing regularisation."
   ]
  },
  {
   "cell_type": "markdown",
   "id": "5f3e1597",
   "metadata": {},
   "source": [
    "## 2. Federal Reserve Bank"
   ]
  },
  {
   "cell_type": "markdown",
   "id": "ff6641be",
   "metadata": {},
   "source": [
    "To solve this problem, we first need to convert the given model into a linear form by taking the logarithm of both sides. Then, we can use ordinary least squares (OLS) to estimate the parameters."
   ]
  },
  {
   "cell_type": "code",
   "execution_count": 43,
   "id": "385fea9f",
   "metadata": {},
   "outputs": [
    {
     "name": "stdout",
     "output_type": "stream",
     "text": [
      "                            OLS Regression Results                            \n",
      "==============================================================================\n",
      "Dep. Variable:         ln_value_added   R-squared:                       0.818\n",
      "Model:                            OLS   Adj. R-squared:                  0.788\n",
      "Method:                 Least Squares   F-statistic:                     27.03\n",
      "Date:                Sat, 01 Apr 2023   Prob (F-statistic):           3.59e-05\n",
      "Time:                        13:31:54   Log-Likelihood:                 19.253\n",
      "No. Observations:                  15   AIC:                            -32.51\n",
      "Df Residuals:                      12   BIC:                            -30.38\n",
      "Df Model:                           2                                         \n",
      "Covariance Type:            nonrobust                                         \n",
      "==============================================================================\n",
      "                 coef    std err          t      P>|t|      [0.025      0.975]\n",
      "------------------------------------------------------------------------------\n",
      "const         -9.6259      2.900     -3.320      0.006     -15.944      -3.308\n",
      "ln_capital     0.5057      0.506      0.999      0.337      -0.597       1.608\n",
      "ln_labor       0.8455      0.422      2.006      0.068      -0.073       1.764\n",
      "==============================================================================\n",
      "Omnibus:                        6.647   Durbin-Watson:                   1.919\n",
      "Prob(Omnibus):                  0.036   Jarque-Bera (JB):                3.442\n",
      "Skew:                           1.015   Prob(JB):                        0.179\n",
      "Kurtosis:                       4.179   Cond. No.                     2.99e+03\n",
      "==============================================================================\n",
      "\n",
      "Notes:\n",
      "[1] Standard Errors assume that the covariance matrix of the errors is correctly specified.\n",
      "[2] The condition number is large, 2.99e+03. This might indicate that there are\n",
      "strong multicollinearity or other numerical problems.\n"
     ]
    },
    {
     "name": "stderr",
     "output_type": "stream",
     "text": [
      "C:\\Users\\Aleni\\miniconda3\\envs\\gpu_notebook\\lib\\site-packages\\scipy\\stats\\_stats_py.py:1736: UserWarning: kurtosistest only valid for n>=20 ... continuing anyway, n=15\n",
      "  warnings.warn(\"kurtosistest only valid for n>=20 ... continuing \"\n"
     ]
    }
   ],
   "source": [
    "import numpy as np\n",
    "import pandas as pd\n",
    "import statsmodels.api as sm\n",
    "\n",
    "data = {'year': [72, 73, 74, 75, 76, 77, 78, 79, 80, 81, 82, 83, 84, 85, 86],\n",
    "        'capital': [1209188, 1330372, 1157371, 1070860, 1233475, 1355769, 1351667, 1326248, 1089545, 1111942, 988165, 1069651, 1191677, 1246536, 1281262],\n",
    "        'labor': [1259142, 1371795, 1263084, 1118226, 1274345, 1369877, 1451595, 1328683, 1077207, 1056231, 947502, 1057159, 1169442, 1195255, 1171664],\n",
    "        'value_added': [11150.0, 12853.6, 10450.8, 9318.3, 12097.7, 12844.8, 13309.9, 13402.3, 8571.0, 8739.7, 8140.0, 10958.4, 10838.9, 10030.5, 10836.5]}\n",
    "\n",
    "df = pd.DataFrame(data)"
   ]
  },
  {
   "cell_type": "markdown",
   "id": "b9ca4dd1",
   "metadata": {},
   "source": [
    "### a. Estimating β1 and β2 without constraint:\n",
    "1. Convert the model into a linear form:\n",
    "ln(V_t) = ln(α) + β1 * ln(K_t) + β2 * ln(L_t) + ln(η_t)\n",
    "\n",
    "2. Run a linear regression with ln(V_t) as the dependent variable and ln(K_t) and ln(L_t) as independent variables."
   ]
  },
  {
   "cell_type": "code",
   "execution_count": null,
   "id": "39293275",
   "metadata": {},
   "outputs": [],
   "source": [
    "# Take the logarithm of the variables\n",
    "df['ln_value_added'] = np.log(df['value_added'])\n",
    "df['ln_capital'] = np.log(df['capital'])\n",
    "df['ln_labor'] = np.log(df['labor'])"
   ]
  },
  {
   "cell_type": "code",
   "execution_count": null,
   "id": "88dbc7ab",
   "metadata": {},
   "outputs": [],
   "source": [
    "X = df[['ln_capital', 'ln_labor']]\n",
    "X = sm.add_constant(X)\n",
    "y = df['ln_value_added']\n",
    "\n",
    "model_a = sm.OLS(y, X).fit()\n",
    "print(model_a.summary())"
   ]
  },
  {
   "cell_type": "markdown",
   "id": "7f003c1b",
   "metadata": {},
   "source": [
    "### b) Estimating β1 and β2 with the constraint β1 + β2 = 1:\n",
    "\n",
    "Run a linear regression with ln(V_t) - ln(L_t) as the dependent variable and ln(K_t) - ln(L_t) as the independent variable. This will give an estimate of β1, and β2 can then be calculated as 1 - β1."
   ]
  },
  {
   "cell_type": "code",
   "execution_count": 44,
   "id": "b57baf74",
   "metadata": {},
   "outputs": [
    {
     "name": "stdout",
     "output_type": "stream",
     "text": [
      "                            OLS Regression Results                            \n",
      "==============================================================================\n",
      "Dep. Variable:            ln_V_over_L   R-squared:                       0.000\n",
      "Model:                            OLS   Adj. R-squared:                 -0.077\n",
      "Method:                 Least Squares   F-statistic:                 0.0004737\n",
      "Date:                Sat, 01 Apr 2023   Prob (F-statistic):              0.983\n",
      "Time:                        13:31:57   Log-Likelihood:                 17.644\n",
      "No. Observations:                  15   AIC:                            -31.29\n",
      "Df Residuals:                      13   BIC:                            -29.87\n",
      "Df Model:                           1                                         \n",
      "Covariance Type:            nonrobust                                         \n",
      "===============================================================================\n",
      "                  coef    std err          t      P>|t|      [0.025      0.975]\n",
      "-------------------------------------------------------------------------------\n",
      "const          -4.7129      0.021   -227.090      0.000      -4.758      -4.668\n",
      "ln_K_over_L     0.0096      0.442      0.022      0.983      -0.944       0.963\n",
      "==============================================================================\n",
      "Omnibus:                        0.547   Durbin-Watson:                   2.054\n",
      "Prob(Omnibus):                  0.761   Jarque-Bera (JB):                0.591\n",
      "Skew:                           0.203   Prob(JB):                        0.744\n",
      "Kurtosis:                       2.117   Cond. No.                         21.3\n",
      "==============================================================================\n",
      "\n",
      "Notes:\n",
      "[1] Standard Errors assume that the covariance matrix of the errors is correctly specified.\n",
      "Constrained β1: 0.009608932223411415, β2: 0.9903910677765886\n"
     ]
    },
    {
     "name": "stderr",
     "output_type": "stream",
     "text": [
      "C:\\Users\\Aleni\\miniconda3\\envs\\gpu_notebook\\lib\\site-packages\\scipy\\stats\\_stats_py.py:1736: UserWarning: kurtosistest only valid for n>=20 ... continuing anyway, n=15\n",
      "  warnings.warn(\"kurtosistest only valid for n>=20 ... continuing \"\n"
     ]
    }
   ],
   "source": [
    "df['ln_V_over_L'] = df['ln_value_added'] - df['ln_labor']\n",
    "df['ln_K_over_L'] = df['ln_capital'] - df['ln_labor']\n",
    "\n",
    "X_b = sm.add_constant(df['ln_K_over_L'])\n",
    "y_b = df['ln_V_over_L']\n",
    "\n",
    "model_b = sm.OLS(y_b, X_b).fit()\n",
    "print(model_b.summary())\n",
    "\n",
    "beta1_b = model_b.params['ln_K_over_L']\n",
    "beta2_b = 1 - beta1_b\n",
    "print(f\"Constrained β1: {beta1_b}, β2: {beta2_b}\")"
   ]
  },
  {
   "cell_type": "markdown",
   "id": "b155f706",
   "metadata": {},
   "source": [
    "## 3. Implement a PCA function "
   ]
  },
  {
   "cell_type": "markdown",
   "id": "7fc1f452",
   "metadata": {},
   "source": [
    "### a) pca and scree_plot - functions "
   ]
  },
  {
   "cell_type": "code",
   "execution_count": 6,
   "id": "d535e4c5",
   "metadata": {},
   "outputs": [],
   "source": [
    "def standardize(X):\n",
    "    return (X - np.mean(X, axis=0)) / np.std(X, axis=0)"
   ]
  },
  {
   "cell_type": "code",
   "execution_count": 28,
   "id": "10505e8a",
   "metadata": {},
   "outputs": [],
   "source": [
    "def pca(X, isCorrMX):\n",
    "    X_standardized = standardize(X)\n",
    "\n",
    "    if isCorrMX:\n",
    "        matrix = np.corrcoef(X_standardized.T)\n",
    "    else:\n",
    "        matrix = np.cov(X_standardized.T)\n",
    "\n",
    "    eigenvalues, eigenvectors = np.linalg.eig(matrix)\n",
    "\n",
    "    sorted_indices = np.argsort(eigenvalues)[::-1]\n",
    "    sorted_eigenvectors = eigenvectors[:, sorted_indices]\n",
    "    sorted_eigenvalues = eigenvalues[sorted_indices]\n",
    "\n",
    "    score_matrix = np.dot(X_standardized, sorted_eigenvectors)\n",
    "    cumulative_variance_explained = np.cumsum(sorted_eigenvalues) / np.sum(sorted_eigenvalues)\n",
    "\n",
    "    return sorted_eigenvectors, sorted_eigenvalues, score_matrix, cumulative_variance_explained"
   ]
  },
  {
   "cell_type": "code",
   "execution_count": 8,
   "id": "cd6a30d8",
   "metadata": {},
   "outputs": [],
   "source": [
    "def scree_plot(eigenvalues, cumulative_variance_explained):\n",
    "    plt.figure()\n",
    "    plt.bar(range(1, len(eigenvalues) + 1), eigenvalues)\n",
    "    plt.plot(range(1, len(eigenvalues) + 1), cumulative_variance_explained, marker='o', color='r')\n",
    "    plt.xlabel('Principal Components')\n",
    "    plt.ylabel('Variance Explained')\n",
    "    plt.title('Scree Plot')\n",
    "    plt.show()"
   ]
  },
  {
   "cell_type": "markdown",
   "id": "05fcc34f",
   "metadata": {},
   "source": [
    "### b) auto-mpg"
   ]
  },
  {
   "cell_type": "markdown",
   "id": "bbb11e73",
   "metadata": {},
   "source": [
    "Load AutoMPG dataset and preprocess it"
   ]
  },
  {
   "cell_type": "code",
   "execution_count": 59,
   "id": "bebfa61e",
   "metadata": {
    "scrolled": true
   },
   "outputs": [],
   "source": [
    "import pandas as pd\n",
    "\n",
    "# define the column names\n",
    "columns = ['mpg', 'cylinders', 'displacement', 'horsepower', 'weight', 'acceleration', 'model_year', 'origin', 'name']\n",
    "\n",
    "# read the data from the text file\n",
    "df = pd.read_csv('auto-mpg.data.txt', delim_whitespace=True, names=columns, na_values='?')\n",
    "\n",
    "# print the first few rows of the DataFrame\n",
    "print(df.head())\n",
    "\n",
    "df.drop('name', axis=1, inplace=True)\n",
    "df.dropna(inplace=True)"
   ]
  },
  {
   "cell_type": "code",
   "execution_count": 19,
   "id": "b54d6d72",
   "metadata": {
    "scrolled": true
   },
   "outputs": [
    {
     "data": {
      "image/png": "[encoded data removed]",
      "text/plain": [
       "<Figure size 640x480 with 1 Axes>"
      ]
     },
     "metadata": {},
     "output_type": "display_data"
    },
    {
     "data": {
      "image/png": "[encoded data removed]",
      "text/plain": [
       "<Figure size 640x480 with 1 Axes>"
      ]
     },
     "metadata": {},
     "output_type": "display_data"
    }
   ],
   "source": [
    "X = df\n",
    "\n",
    "loadings_cov, eigenvalues_cov, scores_cov, cum_var_cov = pca(X, isCorrMX=False)\n",
    "loadings_corr, eigenvalues_corr, scores_corr, cum_var_corr = pca(X, isCorrMX=True)\n",
    "\n",
    "scree_plot(eigenvalues_cov, cum_var_cov)\n",
    "scree_plot(eigenvalues_corr, cum_var_corr)"
   ]
  },
  {
   "cell_type": "markdown",
   "id": "26ba3b29",
   "metadata": {},
   "source": [
    "These scree plots are very similar for both the cases (isCorrMX=True and isCorrMX=False), it suggests that PCA is not sensitive to the scale of the features in this particular dataset. \n",
    "\n",
    "However, this observation is specific to the Auto MPG dataset and might not be generalizable to other datasets. In general, PCA is not scale-invariant."
   ]
  },
  {
   "cell_type": "markdown",
   "id": "1848f3cd",
   "metadata": {},
   "source": [
    "## 4. PCA ORL face dataset"
   ]
  },
  {
   "cell_type": "code",
   "execution_count": 37,
   "id": "44ec461e",
   "metadata": {},
   "outputs": [
    {
     "name": "stdout",
     "output_type": "stream",
     "text": [
      "Number of principal components for 50.0% variance: 2\n",
      "Number of principal components for 60.0% variance: 3\n",
      "Number of principal components for 70.0% variance: 6\n",
      "Number of principal components for 80.0% variance: 13\n",
      "Number of principal components for 90.0% variance: 38\n"
     ]
    }
   ],
   "source": [
    "# Transpose the ORL face dataset\n",
    "X = data_matrix[:, :-1].T\n",
    "\n",
    "# Perform PCA\n",
    "eigenvectors, eigenvalues, score_matrix, cumulative_variance_explained = pca(X, isCorrMX=True)\n",
    "\n",
    "def num_components_for_variance(cumulative_variance_explained, target_variance):\n",
    "    return np.argmax(cumulative_variance_explained >= target_variance) + 1\n",
    "\n",
    "percentages = [0.5, 0.6, 0.7, 0.8, 0.9]\n",
    "num_components = [num_components_for_variance(cumulative_variance_explained, p) for p in percentages]\n",
    "\n",
    "for p, n in zip(percentages, num_components):\n",
    "    print(f\"Number of principal components for {p*100}% variance: {n}\")\n"
   ]
  },
  {
   "cell_type": "code",
   "execution_count": 38,
   "id": "6aa5d351",
   "metadata": {},
   "outputs": [
    {
     "data": {
      "image/png": "[encoded data removed]",
      "text/plain": [
       "<Figure size 640x480 with 1 Axes>"
      ]
     },
     "metadata": {},
     "output_type": "display_data"
    }
   ],
   "source": [
    "# Get the first principal component scores\n",
    "first_pc_scores = score_matrix[:, 0]\n",
    "\n",
    "# Reshape the first principal component scores into a 46x56 matrix\n",
    "reshaped_pc_scores = np.reshape(first_pc_scores, (46, 56))\n",
    "\n",
    "# Rescale the reshaped first principal component scores\n",
    "rescaled_pc_scores = (reshaped_pc_scores - np.min(reshaped_pc_scores)) / (np.max(reshaped_pc_scores) - np.min(reshaped_pc_scores)) * 255\n",
    "\n",
    "# Plot the image\n",
    "plt.imshow(rescaled_pc_scores, cmap=\"gray\")\n",
    "plt.show()\n"
   ]
  }
 ],
 "metadata": {
  "kernelspec": {
   "display_name": "Python 3 (ipykernel)",
   "language": "python",
   "name": "python3"
  },
  "language_info": {
   "codemirror_mode": {
    "name": "ipython",
    "version": 3
   },
   "file_extension": ".py",
   "mimetype": "text/x-python",
   "name": "python",
   "nbconvert_exporter": "python",
   "pygments_lexer": "ipython3",
   "version": "3.10.10"
  }
 },
 "nbformat": 4,
 "nbformat_minor": 5
}
